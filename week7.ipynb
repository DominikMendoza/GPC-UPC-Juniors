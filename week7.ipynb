{
  "nbformat": 4,
  "nbformat_minor": 0,
  "metadata": {
    "colab": {
      "name": "week7.ipynb",
      "provenance": [],
      "collapsed_sections": [],
      "authorship_tag": "ABX9TyNYEQUo3Kj4w0m83t5ia++/",
      "include_colab_link": true
    },
    "kernelspec": {
      "name": "python3",
      "display_name": "Python 3"
    },
    "language_info": {
      "name": "python"
    }
  },
  "cells": [
    {
      "cell_type": "markdown",
      "metadata": {
        "id": "view-in-github",
        "colab_type": "text"
      },
      "source": [
        "<a href=\"https://colab.research.google.com/github/DominikMendoza/GPC-UPC-Juniors/blob/main/week7.ipynb\" target=\"_parent\"><img src=\"https://colab.research.google.com/assets/colab-badge.svg\" alt=\"Open In Colab\"/></a>"
      ]
    },
    {
      "cell_type": "markdown",
      "source": [
        "#Contest pasado"
      ],
      "metadata": {
        "id": "kF6i3q-DMdM5"
      }
    },
    {
      "cell_type": "code",
      "execution_count": null,
      "metadata": {
        "colab": {
          "base_uri": "https://localhost:8080/"
        },
        "cellView": "form",
        "id": "DLGbaQC6MVqL",
        "outputId": "aa8ff195-6828-4f39-c30b-d5439072317b"
      },
      "outputs": [
        {
          "output_type": "stream",
          "name": "stdout",
          "text": [
            "Overwriting b.cpp\n"
          ]
        }
      ],
      "source": [
        "#@title Contest B\n",
        "%%writefile b.cpp\n",
        "#include <bits/stdc++.h>\n",
        "#define MAXN 100\n",
        "using namespace std;\n",
        "\n",
        "string a, b;\n",
        "int memo[MAXN + 1][MAXN + 1];\n",
        "\n",
        "int les(int n, int m) {\n",
        "    if (n == 0 || m == 0) return 0;\n",
        "    int &ret  =  memo[n][m];\n",
        "    if (ret != - 1) return ret;\n",
        "    if (a[n - 1] == b[m - 1])\n",
        "        ret = 1 + les(n - 1, m - 1);\n",
        "    else \n",
        "        ret = max(les(n - 1, m), les(n, m - 1));\n",
        "    return ret;\n",
        "}\n",
        "int main()\n",
        "{\n",
        "    int tc = 1;\n",
        "    while (getline(cin, a)) {\n",
        "        if (a == \"#\") break;\n",
        "        getline(cin, b);\n",
        "        memset(memo, -1, sizeof(memo));\n",
        "\n",
        "        cout << \"Case #\" << tc++ << \": you can visit at most \";\n",
        "        cout << les(a.size(), b.size()) << \" cities.\\n\";\n",
        "    }\n",
        "    return 0;\n",
        "}"
      ]
    },
    {
      "cell_type": "code",
      "source": [
        "#@title Contest C\n",
        "%%writefile c.cpp\n",
        "#include <bits/stdc++.h>\n",
        "#define MAXN 100\n",
        "using namespace std;\n",
        "\n",
        "int A[MAXN], B[MAXN];\n",
        "int memo[MAXN + 1][MAXN + 1];\n",
        "\n",
        "int lcs(int n, int m) {\n",
        "    if (n == 0 || m == 0) return 0;\n",
        "    int &ret = memo[n][m];\n",
        "    if (ret != -1) return ret;\n",
        "    if (A[n - 1] == B[m - 1]) ret = 1 + lcs(n - 1, m - 1);\n",
        "    else ret = max(lcs(n - 1, m), lcs(n, m - 1));\n",
        "    return ret;\n",
        "}\n",
        "int main()\n",
        "{\n",
        "    int n1, n2, tc = 1;\n",
        "    while (cin >> n1 >> n2) {\n",
        "        if (n1 == 0 && n2 == 0) break;\n",
        "        for (int i = 0; i < n1; ++i) cin >> A[i];\n",
        "        for (int i = 0; i < n2; ++i) cin >> B[i];\n",
        "        cout << \"Twin Towers #\" << tc++ << '\\n';\n",
        "        memset(memo, -1, sizeof(memo));\n",
        "        cout << \"Number of Tiles : \" << lcs(n1, n2) << '\\n';\n",
        "        cout << '\\n';\n",
        "    }\n",
        "    return 0;\n",
        "}"
      ],
      "metadata": {
        "colab": {
          "base_uri": "https://localhost:8080/"
        },
        "cellView": "form",
        "id": "GGGrXZMjSgAG",
        "outputId": "bdbed0f6-6a42-4a21-8e5a-0857c6b4edb1"
      },
      "execution_count": null,
      "outputs": [
        {
          "output_type": "stream",
          "name": "stdout",
          "text": [
            "Overwriting c.cpp\n"
          ]
        }
      ]
    },
    {
      "cell_type": "code",
      "source": [
        "#@title Contest D (incomplete :c)\n",
        "%%writefile d.cpp\n",
        "#include <bits/stdc++.h>\n",
        "#define MAXN 100000\n",
        "using namespace std;\n",
        "\n",
        "vector<int> A[MAXN + 1];\n",
        "vector<int> v;\n",
        "int memo[MAXN + 1];\n",
        "\n",
        "int f(int n) //maxima cantidad de caramelos teniendo las n primer \n",
        "// cajas disponibles\n",
        "{\n",
        "    if (n <= 0) return 0;\n",
        "    int &ret = memo[n];\n",
        "    if (ret != -1) return ret;\n",
        "    //no usamos la n-esima caja\n",
        "    ret = f(n - 1);\n",
        "    //usamos n-esima caja\n",
        "    ret =  max(ret, v[n - 1] + f(n - 2));\n",
        "    return ret;\n",
        "}\n",
        "\n",
        "int main()\n",
        "{\n",
        "    ios::sync_with_stdio(false);\n",
        "    cin.tie(NULL);\n",
        "    int n, m, x;\n",
        "    while (cin >> n >> m) {\n",
        "        if (n == 0 && m == 0) break;\n",
        "        for (int i  = 0; i < n; i++) {\n",
        "            for (int j = 0; j < m; ++j) {\n",
        "                cin >> x;\n",
        "                A[i].push_back(x);\n",
        "            }\n",
        "        }\n",
        "        vector<int> fila;\n",
        "        for (int i = 0; i < n; i++)\n",
        "        {\n",
        "            v = A[i];\n",
        "            fila.push_back(f(v.size()));\n",
        "        }\n",
        "        for (int i = 0; i < n; i++) A[i].clear();\n",
        "    }\n",
        "    return 0;\n",
        "}"
      ],
      "metadata": {
        "colab": {
          "base_uri": "https://localhost:8080/"
        },
        "id": "LLHIoVNEWhe2",
        "outputId": "c47ef21f-76a7-4b76-d38c-dfed6d14e3e2",
        "cellView": "form"
      },
      "execution_count": null,
      "outputs": [
        {
          "output_type": "stream",
          "name": "stdout",
          "text": [
            "Overwriting d.cpp\n"
          ]
        }
      ]
    },
    {
      "cell_type": "code",
      "source": [
        "#@title Edit distance\n",
        "%%writefile edit_distance.cpp\n",
        "#include <bits/stdc++.h>\n",
        "#define MAXN 100000\n",
        "using namespace std;\n",
        "\n",
        "int memo[10][10];\n",
        "string a = \"abcd\", b = \"axd\";\n",
        "\n",
        "//minima cantidad de operaciones para transformar n primer elementos\n",
        "int ed(int n, int m)\n",
        "{\n",
        "    if (n == 0) return m;\n",
        "    if (m == 0) return n;\n",
        "    int &ret = memo[n][m];\n",
        "    if (ret != -1) return ret;\n",
        "    if (a[n - 1] == b[m - 1]) ret = ed(n - 1, m - 1); // hicieron match\n",
        "    else {\n",
        "         ret = 1 + ed(n - 1, m - 1); // reemplazar n-esimo elemento\n",
        "         ret = min(ret, 1 + ed(n - 1, m)); // eliminar n-esimo elemento de a\n",
        "         ret = min(ret, 1 + ed(n, m - 1)); // insertar elemento al final de a\n",
        "    }\n",
        "    return ret;\n",
        "}\n",
        "int main() {\n",
        "    memset(memo, -1, sizeof(memo));\n",
        "    cout << ed(a.size(), b.size());\n",
        "    return 0;\n",
        "}"
      ],
      "metadata": {
        "colab": {
          "base_uri": "https://localhost:8080/"
        },
        "cellView": "form",
        "id": "J8W63G2H0qe_",
        "outputId": "08cbe5b8-7ade-41e7-87d6-86d1108288e7"
      },
      "execution_count": null,
      "outputs": [
        {
          "output_type": "stream",
          "name": "stdout",
          "text": [
            "Overwriting edit_distance.cpp\n"
          ]
        }
      ]
    },
    {
      "cell_type": "code",
      "source": [
        "%%writefile a.cpp\n",
        "#include <bits/stdc++.h>\n",
        "using namespace std;\n",
        "int main()\n",
        "{\n",
        "    int v, A[9];\n",
        "    map<short, int> mapita;\n",
        "    cin >> v;\n",
        "    for (size_t i = 0; i < 9; i++) cin >> A[i];   \n",
        "\n",
        "    if (v == 0) cout << \"-1\";\n",
        "    else {\n",
        "        for (size_t i = 0; i < 9; i++) mapita[A[i]] = i + 1;\n",
        "        for (auto a : mapita)\n",
        "        {\n",
        "            while (v >= a.first)\n",
        "            {\n",
        "                v -= a.first;\n",
        "                cout << a.second;\n",
        "            }\n",
        "            if (v == 0) break;\n",
        "        }\n",
        "    }\n",
        "    return 0;\n",
        "}"
      ],
      "metadata": {
        "colab": {
          "base_uri": "https://localhost:8080/"
        },
        "id": "i4WZGIu36WwE",
        "outputId": "f1e0d33e-b4f9-4c05-8073-6fa301aa60d2"
      },
      "execution_count": null,
      "outputs": [
        {
          "output_type": "stream",
          "name": "stdout",
          "text": [
            "Overwriting a.cpp\n"
          ]
        }
      ]
    },
    {
      "cell_type": "code",
      "source": [
        "!g++ a.cpp && ./a.out < input.txt"
      ],
      "metadata": {
        "colab": {
          "base_uri": "https://localhost:8080/"
        },
        "id": "GEmbXH3mNOHV",
        "outputId": "f1a1d048-c980-477a-934d-0034986816a8"
      },
      "execution_count": null,
      "outputs": [
        {
          "output_type": "stream",
          "name": "stdout",
          "text": [
            "55555"
          ]
        }
      ]
    },
    {
      "cell_type": "code",
      "source": [
        "%%writefile input.txt\n",
        "5\n",
        "5 4 3 2 1 2 3 4 5"
      ],
      "metadata": {
        "colab": {
          "base_uri": "https://localhost:8080/"
        },
        "id": "J78dDS7aPJcV",
        "outputId": "ad276544-633d-4bb1-88c9-cb08d9260040"
      },
      "execution_count": null,
      "outputs": [
        {
          "output_type": "stream",
          "name": "stdout",
          "text": [
            "Overwriting input.txt\n"
          ]
        }
      ]
    }
  ]
}