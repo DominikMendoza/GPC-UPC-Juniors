{
  "nbformat": 4,
  "nbformat_minor": 0,
  "metadata": {
    "colab": {
      "name": "week5.ipynb",
      "provenance": [],
      "collapsed_sections": [],
      "authorship_tag": "ABX9TyOj/GF+msLNH+YqMy5fu47B",
      "include_colab_link": true
    },
    "kernelspec": {
      "name": "python3",
      "display_name": "Python 3"
    },
    "language_info": {
      "name": "python"
    }
  },
  "cells": [
    {
      "cell_type": "markdown",
      "metadata": {
        "id": "view-in-github",
        "colab_type": "text"
      },
      "source": [
        "<a href=\"https://colab.research.google.com/github/DominikMendoza/GPC-UPC-Juniors/blob/main/week5.ipynb\" target=\"_parent\"><img src=\"https://colab.research.google.com/assets/colab-badge.svg\" alt=\"Open In Colab\"/></a>"
      ]
    },
    {
      "cell_type": "markdown",
      "source": [
        "#Week 5\n"
      ],
      "metadata": {
        "id": "qD9P-2rP_M7q"
      }
    },
    {
      "cell_type": "code",
      "source": [
        "#@title Contest B\n",
        "%%writefile B.cpp\n",
        "#include <bits/stdc++.h>\n",
        "#define ll long long\n",
        "using namespace std;\n",
        "#define MAXS 7489 \n",
        "#define MAXN 5\n",
        "int memo[MAXS + 1][MAXN + 1];\n",
        "int D[] = {1, 5, 10, 25, 50};\n",
        "\n",
        "int func(int s, int n) {\n",
        "    if (n == 0) {\n",
        "        if (s == 0) return 1;\n",
        "        return 0;\n",
        "    } \n",
        "\n",
        "    int &ret = memo[s][n];\n",
        "    if (ret != -1) return ret;\n",
        "\n",
        "    //si no usamos n-esimo elemento\n",
        "    ret = func(s, n - 1);\n",
        "    //usamos el n-esimo elemento\n",
        "    if (s >= D[n - 1]) ret += func(s - D[n - 1], n); \n",
        "    return ret;\n",
        "}\n",
        "\n",
        "int main()\n",
        "{\n",
        "    int s;\n",
        "    memset(memo, -1, sizeof(memo));\n",
        "    while (cin >> s) {\n",
        "      cout << func(s, 5) << '\\n';\n",
        "    }\n",
        "    return 0;\n",
        "}"
      ],
      "metadata": {
        "colab": {
          "base_uri": "https://localhost:8080/"
        },
        "id": "btXGdTlf_S7g",
        "outputId": "2b95c5f6-cdd1-4fde-d959-261140f40bf1",
        "cellView": "form"
      },
      "execution_count": null,
      "outputs": [
        {
          "output_type": "stream",
          "name": "stdout",
          "text": [
            "Overwriting B.cpp\n"
          ]
        }
      ]
    },
    {
      "cell_type": "code",
      "source": [
        "#@title Contest 2 problem A\n",
        "%%writefile Ac2.cpp\n",
        "#include <bits/stdc++.h>\n",
        "using namespace std;\n",
        "#define MAXN 10000\n",
        "#define MAXAC 100\n",
        "\n",
        "int A[MAXN + 1];\n",
        "int memo[MAXN + 1][MAXAC + 1];\n",
        "int k;\n",
        "\n",
        "int mod_pos(int x)\n",
        "{\n",
        "    return ((x % k) + k) % k;\n",
        "}\n",
        "/* usando los n primer elementos (+-)podemos forman una suma divisible por k,\n",
        " teniendo acumulado mod k*/\n",
        "// O(n * k)\n",
        " \n",
        "int f(int n, int ac_mod) {\n",
        "    if (n == 0) {\n",
        "        if (ac_mod == 0) return 1;\n",
        "        return 0; \n",
        "    }\n",
        "    int &ret = memo[n][ac_mod];\n",
        "    if (ret != -1) return ret;\n",
        "\n",
        "    //tomamos n-esimo elemento como positivo\n",
        "    ret = f(n - 1, mod_pos(ac_mod + A[n - 1]));\n",
        "\n",
        "    //tomamos n-esimo elemento como negativo\n",
        "    if (n > 1) ret = ret || f(n - 1, mod_pos(ac_mod - A[n - 1])); // no aplica para el 1er elemnto\n",
        "    return ret;\n",
        "}\n",
        "\n",
        "void solve() {\n",
        "    int n;\n",
        "    cin >> n >> k;\n",
        "    for (int i = 0; i < n; ++i) cin >> A[i];\n",
        "    memset(memo, -1, sizeof(memo));\n",
        "    cout << (f(n, 0)? \"Divisible\\n\" : \"Not divisible\\n\");\n",
        "}\n",
        "int main() {\n",
        "    ios::sync_with_stdio(false);\n",
        "    cin.tie(NULL);\n",
        "    int tc;\n",
        "    cin >> tc;\n",
        "    while (tc--) solve();\n",
        "}"
      ],
      "metadata": {
        "colab": {
          "base_uri": "https://localhost:8080/"
        },
        "cellView": "form",
        "id": "Yx-be4ewReJ0",
        "outputId": "ec302dc6-a7e2-4fa5-f667-6da2eee8f502"
      },
      "execution_count": null,
      "outputs": [
        {
          "output_type": "stream",
          "name": "stdout",
          "text": [
            "Overwriting Ac2.cpp\n"
          ]
        }
      ]
    },
    {
      "cell_type": "code",
      "source": [
        "#@title Contest 2 problem A\n",
        "%%writefile Bc2.cpp\n",
        "#include <bits/stdc++.h>\n",
        "#define ll long long\n",
        "#define MAXN 500\n",
        "using namespace std;\n",
        "\n",
        "// otra forma \n",
        "//typedef long long ll;\n",
        "\n",
        "ll memo[MAXN + 1][MAXN + 1];\n",
        "/* maneras de construir escalera con n ladrillos disponibles\n",
        "    habiendo usado last en la ultima grada */\n",
        "ll f(int n, int last) {\n",
        "    if (n == 0) return 1;\n",
        "    ll &ret = memo[n][last];\n",
        "    if (ret != -1) return ret;\n",
        "\n",
        "    // en esta grada debo usar como minimo last + 1 ladrillo\n",
        "    ret = 0;\n",
        "    for (int i = last + 1; i <= n; i++) {\n",
        "        ret += f(n - i, i);\n",
        "    }\n",
        "    return ret;\n",
        "}\n",
        "\n",
        "int main()\n",
        "{\n",
        "    ios::sync_with_stdio(false);\n",
        "    cin.tie(NULL);\n",
        "    int n;\n",
        "    cin >> n;\n",
        "    memset(memo, -1, sizeof(memo));\n",
        "    ll cont = 0;\n",
        "    //definiendo ladrillos de primera grada\n",
        "    for (int i = 1; i <= n - 1; i++){\n",
        "        cont += f(n - i, i);\n",
        "    }\n",
        "    cout << cont;\n",
        "    // cout << f(n, 0) - 1;\n",
        "    return 0;\n",
        "}"
      ],
      "metadata": {
        "colab": {
          "base_uri": "https://localhost:8080/"
        },
        "cellView": "form",
        "id": "8iAN9Fq8tliy",
        "outputId": "cdda67e4-db0e-47df-b130-030d92e6da25"
      },
      "execution_count": null,
      "outputs": [
        {
          "output_type": "stream",
          "name": "stdout",
          "text": [
            "Overwriting Bc2.cpp\n"
          ]
        }
      ]
    }
  ]
}