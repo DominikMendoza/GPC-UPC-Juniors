{
  "nbformat": 4,
  "nbformat_minor": 0,
  "metadata": {
    "colab": {
      "name": "week6.ipynb",
      "provenance": [],
      "collapsed_sections": [],
      "authorship_tag": "ABX9TyODFgKn7pYl/wHQxtIrfVuQ",
      "include_colab_link": true
    },
    "kernelspec": {
      "name": "python3",
      "display_name": "Python 3"
    },
    "language_info": {
      "name": "python"
    }
  },
  "cells": [
    {
      "cell_type": "markdown",
      "metadata": {
        "id": "view-in-github",
        "colab_type": "text"
      },
      "source": [
        "<a href=\"https://colab.research.google.com/github/DominikMendoza/GPC-UPC-Juniors/blob/main/week6.ipynb\" target=\"_parent\"><img src=\"https://colab.research.google.com/assets/colab-badge.svg\" alt=\"Open In Colab\"/></a>"
      ]
    },
    {
      "cell_type": "markdown",
      "source": [
        "#Week 5 ⚡\n",
        "\n",
        "\n",
        "\n",
        "```\n",
        "Contest C\n",
        "```\n",
        "\n",
        "```\n",
        "Contest D\n",
        "```\n",
        "\n",
        "\n"
      ],
      "metadata": {
        "id": "9jTnjRS7z_M0"
      }
    },
    {
      "cell_type": "code",
      "execution_count": null,
      "metadata": {
        "colab": {
          "base_uri": "https://localhost:8080/"
        },
        "cellView": "form",
        "id": "sNuB6RK-L0d7",
        "outputId": "1ecdfe56-893a-455d-b5b5-07698a1a3163"
      },
      "outputs": [
        {
          "output_type": "stream",
          "name": "stdout",
          "text": [
            "Overwriting C.cpp\n"
          ]
        }
      ],
      "source": [
        "#@title Contest C\n",
        "%%writefile C.cpp\n",
        "#include <bits/stdc++.h>\n",
        "#define MAXN 200\n",
        "#define MAXM 10\n",
        "#define MOD 20\n",
        "using namespace std;\n",
        "\n",
        "int A[MAXN + 1], d;\n",
        "int memo[MAXN + 1][MAXM + 1][MOD + 1];\n",
        "\n",
        "/* #maneras de formar grupos de tamannio n\n",
        "    primer elementos cuya suma sea divisible por d,\n",
        "    teniendo acumulado ac_mod */\n",
        "\n",
        "//modulo positivo\n",
        "int mod_pos(int x) {\n",
        "    return ((x % d) + d) % d;\n",
        "}\n",
        "\n",
        "int f(int n, int m, int ac_mod) {\n",
        "    if (n == 0) {\n",
        "        if (m == 0 && ac_mod == 0) return 1;\n",
        "        return 0;\n",
        "    }\n",
        "    if (m < 0) return 0;\n",
        "    int &ret = memo[n][m][ac_mod];\n",
        "    if (ret != -1) return ret;\n",
        "\n",
        "    // no uso el n-esimo elemento\n",
        "    ret = f(n - 1, m, ac_mod);\n",
        "\n",
        "    // uso el n-esimo elemento\n",
        "    if (m > 0) ret = ret + f(n - 1, m - 1, mod_pos(ac_mod + A[n - 1]));\n",
        "    return ret;\n",
        "\n",
        "}\n",
        "int main()\n",
        "{\n",
        "    ios::sync_with_stdio(false);\n",
        "    cin.tie(NULL);\n",
        "    int n, q, m, tc = 0;;\n",
        "    while (cin >> n >> q) {\n",
        "        if (n == 0 && q == 0) break;\n",
        "        cout << \"SET \" << tc + 1 << \":\\n\";\n",
        "        for (int i = 0; i < n; ++i) cin >> A[i];\n",
        "        for (int i = 0; i < q; ++i) {\n",
        "            cin >> d >> m;\n",
        "            memset(memo, -1, sizeof(memo));\n",
        "            cout << \"QUERY \" << i + 1 << \": \";\n",
        "            cout << f(n, m, 0) << '\\n'; \n",
        "        }\n",
        "        tc++;\n",
        "    }\n",
        "    return 0;\n",
        "}"
      ]
    },
    {
      "cell_type": "code",
      "source": [
        "#@title Contest D\n",
        "%%writefile D.cpp\n",
        "#include <bits/stdc++.h>\n",
        "#define MAXN 200\n",
        "using namespace std;\n",
        "\n",
        "int A[MAXN + 3];\n",
        "int memo[MAXN + 3][MAXN + 3][MAXN + 3];\n",
        "\n",
        "/* min cantidad de no pintados con los n primer elemntos\n",
        "    habiendo usado el ultimo blanco last_w y el ultimo negro\n",
        "    last_b */\n",
        "int f(int n, int last_w, int last_b)\n",
        "{\n",
        "    if (n == 0) return 0;\n",
        "    int &ret = memo[n][last_w][last_b];\n",
        "    if (ret != -1) return ret;\n",
        "    // pintamos elemento\n",
        "    ret = 1 + f(n - 1, last_w, last_b);\n",
        "    // pintamos de blanco, validar ord dsc\n",
        "    if (A[n - 1] > A[last_w]) ret = min(ret,\n",
        "                    0 + f(n - 1, n - 1, last_b));\n",
        "    // pintamos de negro, validar ord-asc\n",
        "    if (A[n - 1] < A[last_b]) ret = min(ret,\n",
        "                    0 + f(n - 1, last_w, n - 1));\n",
        "    return ret; \n",
        "}\n",
        "int main()\n",
        "{\n",
        "    ios::sync_with_stdio(false);\n",
        "    cin.tie(NULL);\n",
        "    int n;\n",
        "    while (cin >> n){\n",
        "        if (n == -1) break;\n",
        "        for (int i = 0; i < n; ++i) cin >> A[i];\n",
        "        // blanco\n",
        "        A[n] = 0;\n",
        "\n",
        "        // negro\n",
        "        A[n + 1] = 1000001;\n",
        "        memset(memo, -1, sizeof(memo));\n",
        "        cout << f(n, n, n + 1) << \"\\n\";\n",
        "    }\n",
        "}"
      ],
      "metadata": {
        "colab": {
          "base_uri": "https://localhost:8080/"
        },
        "cellView": "form",
        "id": "y5neNW8RW0QQ",
        "outputId": "81968482-6240-44b1-84e2-e2b99c3f4c78"
      },
      "execution_count": null,
      "outputs": [
        {
          "output_type": "stream",
          "name": "stdout",
          "text": [
            "Overwriting D.cpp\n"
          ]
        }
      ]
    },
    {
      "cell_type": "markdown",
      "source": [
        "---\n",
        "#Week6 ✈\n",
        "```\n",
        "Backpack\n",
        "```\n",
        "\n",
        "```\n",
        "LCS\n",
        "```"
      ],
      "metadata": {
        "id": "l-BxA4020IfZ"
      }
    },
    {
      "cell_type": "code",
      "source": [
        "#@title Backpack\n",
        "%%writefile mochila.cpp\n",
        "#include <bits/stdc++.h>\n",
        "using namespace std;\n",
        "int W[] = {14, 10, 4, 13};\n",
        "int V[] = {100, 150, 50, 190};\n",
        "int memo[100][100];\n",
        "\n",
        "/* maximo valor que se lleva en la mochila con\n",
        "    capacidad c, teniendo los n primer elementos\n",
        "    disponibles\n",
        "*/\n",
        "int f(int n, int c) {\n",
        "    if (n == 0) return 0;\n",
        "    int &ret = memo[n][c];\n",
        "    if (ret != -1) return ret;\n",
        "    // no uso n-esimo elemento\n",
        "    ret = 0 + f(n - 1, c);\n",
        "    // uso el n-esimo elemento\n",
        "    if (W[n - 1] <= c) ret = max(ret, V[n - 1] +\n",
        "                        f(n - 1, c - W[n - 1]));\n",
        "    return ret;\n",
        "\n",
        "    \n",
        "}\n",
        "int main()\n",
        "{\n",
        "    memset(memo, -1, sizeof(memo));\n",
        "    cout << f(4, 15);\n",
        "    return 0;\n",
        "}"
      ],
      "metadata": {
        "colab": {
          "base_uri": "https://localhost:8080/"
        },
        "cellView": "form",
        "id": "xjmOUc6Mjyo6",
        "outputId": "ca9ebb9a-3ddd-4f74-ea79-167ab82fd745"
      },
      "execution_count": null,
      "outputs": [
        {
          "output_type": "stream",
          "name": "stdout",
          "text": [
            "Overwriting mochila.cpp\n"
          ]
        }
      ]
    },
    {
      "cell_type": "code",
      "source": [
        "#@title Reconstruction backpack\n",
        "%%writefile rec_mochila.cpp\n",
        "#include <bits/stdc++.h>\n",
        "using namespace std;\n",
        "int W[] = {14, 10, 4, 13};\n",
        "int V[] = {100, 150, 50, 190};\n",
        "int memo[100][100];\n",
        "\n",
        "/* maximo valor que se lleva en la mochila con\n",
        "    capacidad c, teniendo los n primer elementos\n",
        "    disponibles\n",
        "*/\n",
        "int f(int n, int c) {\n",
        "    if (n == 0) return 0;\n",
        "    int &ret = memo[n][c];\n",
        "    if (ret != -1) return ret;\n",
        "    // no uso n-esimo elemento\n",
        "    ret = 0 + f(n - 1, c);\n",
        "    // uso el n-esimo elemento\n",
        "    if (W[n - 1] <= c) ret = max(ret, V[n - 1] +\n",
        "                        f(n - 1, c - W[n - 1]));\n",
        "    return ret;\n",
        "}\n",
        "\n",
        "vector<int> sol;\n",
        "\n",
        "/*\n",
        "    reconstruye el dp con elementos disponibles y\n",
        "    capacidad c\n",
        "*/\n",
        "void rec(int n, int c) {\n",
        "    if (n == 0) return;\n",
        "\n",
        "    if (f(n, c) == 0 + f(n - 1, c)) {\n",
        "        rec(n - 1, c);\n",
        "    } else {\n",
        "        sol.push_back(n - 1); // guardo indice de n-esimo elemento asociado\n",
        "        rec(n - 1, c - W[n - 1]);\n",
        "    }\n",
        "}\n",
        "int main()\n",
        "{\n",
        "    memset(memo, -1, sizeof(memo));\n",
        "    cout << f(4, 15);\n",
        "    rec(4, 15);\n",
        "    for (auto e : sol) cout << \" \" << e;\n",
        "    return 0;\n",
        "}"
      ],
      "metadata": {
        "colab": {
          "base_uri": "https://localhost:8080/"
        },
        "cellView": "form",
        "id": "K6PVOI34mdUn",
        "outputId": "7f1d4e1c-ed4b-426f-d5e8-1605fe0bf3e2"
      },
      "execution_count": null,
      "outputs": [
        {
          "output_type": "stream",
          "name": "stdout",
          "text": [
            "Overwriting rec_mochila.cpp\n"
          ]
        }
      ]
    },
    {
      "cell_type": "code",
      "source": [
        "#@title Contest A\n",
        "%%writefile A.cpp\n",
        "#include <bits/stdc++.h>\n",
        "#define MAXN 1000\n",
        "#define MAXC 30\n",
        "using namespace std;\n",
        "\n",
        "int V[MAXN + 1], W[MAXN + 1];\n",
        "int memo[MAXN + 1][MAXC + 1];\n",
        "\n",
        "int f(int n, int c) \n",
        "{\n",
        "    if (n == 0) return 0;\n",
        "    int &ret = memo[n][c];\n",
        "    if (ret != -1) return ret;\n",
        "    ret = f(n - 1, c);\n",
        "    if (W[n - 1] <= c) ret = max(ret, V[n - 1] +\n",
        "                        f(n - 1, c - W[n - 1]));\n",
        "    return ret;\n",
        "\n",
        "    \n",
        "}\n",
        "void solve()\n",
        "{\n",
        "    int n;\n",
        "    cin >> n;\n",
        "    for (int i = 0; i < n; i++)\n",
        "    {\n",
        "        cin >> V[i] >> W[i];\n",
        "    }\n",
        "    memset(memo, -1, sizeof(memo));\n",
        "    int g, c;\n",
        "    cin >> g; // 100\n",
        "    int ac = 0;\n",
        "    for (int i = 0; i < g; i++)\n",
        "    {\n",
        "        cin >> c;\n",
        "        ac += f(n, c);\n",
        "    }\n",
        "    cout << ac << \"\\n\";\n",
        "}\n",
        "\n",
        "int main()\n",
        "{\n",
        "    ios::sync_with_stdio(false);\n",
        "    cin.tie(NULL);\n",
        "    int tc;\n",
        "    cin >> tc; // 1000\n",
        "    while (tc--) solve();\n",
        "    return 0;\n",
        "}"
      ],
      "metadata": {
        "colab": {
          "base_uri": "https://localhost:8080/"
        },
        "cellView": "form",
        "id": "Z4JfZ-fwp8nH",
        "outputId": "fb563825-15e3-4a0b-a22a-1c4627a43271"
      },
      "execution_count": null,
      "outputs": [
        {
          "output_type": "stream",
          "name": "stdout",
          "text": [
            "Overwriting A.cpp\n"
          ]
        }
      ]
    },
    {
      "cell_type": "code",
      "source": [
        "#@title LCS\n",
        "%%writefile lcs.cpp\n",
        "#include <bits/stdc++.h>\n",
        "using namespace std;\n",
        "\n",
        "string a, b;\n",
        "int memo[100][100];\n",
        "\n",
        "// lcs de los n primer elementos de a y los m primer\n",
        "// elementos de b\n",
        "\n",
        "int lcs (int n, int m) {\n",
        "    if (n == 0 || m == 0) return 0;\n",
        "    int &ret = memo[n][m];\n",
        "    if (ret != -1) return ret;\n",
        "    // si hay match de los ultimos caracteres\n",
        "    if (a[n - 1] == b[m - 1]) ret = 1 + lcs(n - 1, m - 1);\n",
        "    /* si no hay match, probamos las 2 opciones descartando\n",
        "        la ultima letra */\n",
        "    \n",
        "    else ret = max(lcs(n - 1, m), lcs(n, m - 1));\n",
        "    return ret;\n",
        "}\n",
        "\n",
        "vector<char> sol;\n",
        "\n",
        "void rec(int n, int m) {\n",
        "    if (n == 0 || m == 0) return;\n",
        "    if (a[n - 1] == b[m - 1]) {\n",
        "        rec(n - 1, m - 1);\n",
        "        sol.push_back(a[n - 1]);\n",
        "    } else {\n",
        "        if (lcs(n, m) == lcs(n - 1, m)) {\n",
        "            rec(n - 1, m);\n",
        "        }\n",
        "        else {\n",
        "            rec(n, m - 1);\n",
        "        }\n",
        "    }\n",
        "}\n",
        "int main() {\n",
        "    cin >> a >> b;\n",
        "    memset(memo, -1, sizeof(memo));\n",
        "    cout << lcs(a.size(), b.size()) << '\\n';\n",
        "    rec(a.size(), b.size());\n",
        "    for (auto e : sol) cout << e;\n",
        "    return 0;\n",
        "}"
      ],
      "metadata": {
        "colab": {
          "base_uri": "https://localhost:8080/"
        },
        "cellView": "form",
        "id": "rVwEe1Li3neI",
        "outputId": "246b16b1-9a41-4d13-c2a0-d83280bbef8c"
      },
      "execution_count": null,
      "outputs": [
        {
          "output_type": "stream",
          "name": "stdout",
          "text": [
            "Overwriting lcs.cpp\n"
          ]
        }
      ]
    },
    {
      "cell_type": "markdown",
      "source": [
        "---"
      ],
      "metadata": {
        "id": "daJjSr0--aFq"
      }
    },
    {
      "cell_type": "code",
      "source": [
        "#@title Just input\n",
        "%%writefile input.txt\n",
        "2\n",
        "3\n",
        "72 17\n",
        "44 23\n",
        "31 24\n",
        "1\n",
        "26\n",
        "6\n",
        "64 26\n",
        "85 22\n",
        "52 4\n",
        "99 18\n",
        "39 13\n",
        "54 9\n",
        "4\n",
        "23\n",
        "20\n",
        "20\n",
        "26"
      ],
      "metadata": {
        "colab": {
          "base_uri": "https://localhost:8080/"
        },
        "cellView": "form",
        "id": "n4vIV2kTMgiW",
        "outputId": "d400de5e-8f07-47b3-9679-1538e5911c03"
      },
      "execution_count": null,
      "outputs": [
        {
          "output_type": "stream",
          "name": "stdout",
          "text": [
            "Overwriting input.txt\n"
          ]
        }
      ]
    }
  ]
}