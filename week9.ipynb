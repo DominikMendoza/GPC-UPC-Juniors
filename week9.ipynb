{
  "nbformat": 4,
  "nbformat_minor": 0,
  "metadata": {
    "colab": {
      "name": "week9.ipynb",
      "provenance": [],
      "collapsed_sections": [],
      "authorship_tag": "ABX9TyORPGCafLgTAeoj16/j9TmE",
      "include_colab_link": true
    },
    "kernelspec": {
      "name": "python3",
      "display_name": "Python 3"
    },
    "language_info": {
      "name": "python"
    }
  },
  "cells": [
    {
      "cell_type": "markdown",
      "metadata": {
        "id": "view-in-github",
        "colab_type": "text"
      },
      "source": [
        "<a href=\"https://colab.research.google.com/github/DominikMendoza/GPC-UPC-Juniors/blob/main/week9.ipynb\" target=\"_parent\"><img src=\"https://colab.research.google.com/assets/colab-badge.svg\" alt=\"Open In Colab\"/></a>"
      ]
    },
    {
      "cell_type": "markdown",
      "source": [
        "![Kun y los subarreglos](https://github.com/DominikMendoza/GPC-UPC-Juniors/blob/main/imgs/a.png)\n",
        "\n",
        "**Input Format**\n",
        "\n",
        "La primera línea contiene un entero *n*, indicando la cantidad de elementos del arreglo.\n",
        "\n",
        "La segunda línea contiene los *n* números enteros A<sub>i</sub> que forman el arreglo.\n",
        "\n",
        "**Constraints**\n",
        "```{r}\n",
        "1 <= n <= 20\n",
        "```\n",
        "\n",
        "**Output Format**\n",
        "\n",
        "Imprimir la cantidad de subarreglos que existen de tal forma que tengan todos sus elementos en orden no decreciente.\n",
        "\n",
        "**Sample Input 0**\n",
        "\n",
        "```{r}\n",
        "4\n",
        "12 10 15 12\n",
        "```\n",
        "**Sample Output 0**\n",
        "```{r}\n",
        "5\n",
        "```\n",
        "**Explanation 0**\n",
        "\n",
        "Existen 5 subarreglos que cumplan lo requerido:\n",
        "\n",
        "- El subarreglo formado por el primer elemento [12]\n",
        "- El subarreglo formado por el último elemento [12]\n",
        "- El subarreglo formado por el segundo elemento [10]\n",
        "- El subarreglo formado por el tercer elemento [15]\n",
        "- El subarreglo formado por el segundo y tercer elemento [10, 15]"
      ],
      "metadata": {
        "id": "8K1gnIpv-wjG"
      }
    },
    {
      "cell_type": "markdown",
      "source": [
        ""
      ],
      "metadata": {
        "id": "FaU1qSGu_bQg"
      }
    },
    {
      "cell_type": "code",
      "execution_count": null,
      "metadata": {
        "cellView": "form",
        "id": "uiPMU1Ba87rP"
      },
      "outputs": [],
      "source": [
        "#@title Kun y los subarreglos \n",
        "%%writefile A.cpp\n",
        "#include <bits/stdc++.h>\n",
        "using namespace std;\n",
        "\n",
        "long long getfacto(int n)\n",
        "{\n",
        "    return ((n * (n + 1))/ 2);\n",
        "}\n",
        "int main()\n",
        "{\n",
        "    vector<int> cer;\n",
        "    int n;\n",
        "    cin >> n;\n",
        "    int nums[n];\n",
        "    for (int i = 0; i < n; i++)\n",
        "    {\n",
        "        cin >> nums[i];\n",
        "    }\n",
        "    int cont = 1;\n",
        "    for (int i = 0; i < n - 1; i++)\n",
        "    {\n",
        "        if (nums[i] <= nums[i + 1])\n",
        "        {\n",
        "            cont++;\n",
        "        }\n",
        "        else\n",
        "        {\n",
        "            cer.push_back(cont);\n",
        "            cont = 1;\n",
        "        }\n",
        "    }\n",
        "    if (nums[n - 2] <= nums[n - 1]) cer.push_back(cont);\n",
        "    else cer.push_back(1);\n",
        "    long long suma = 0;\n",
        "    for (size_t i = 0; i < cer.size(); i++)\n",
        "    {\n",
        "        suma += getfacto(cer.at(i));\n",
        "    }\n",
        "    cout << suma;\n",
        "    return 0;\n",
        "}"
      ]
    },
    {
      "cell_type": "code",
      "source": [
        "#@title Kun y los dados\n",
        "%%writefile B.cpp\n",
        "#include <bits/stdc++.h>\n",
        "using namespace std;\n",
        "int main()\n",
        "{\n",
        "    map<int, int> mapita;\n",
        "    int n, aux;\n",
        "    cin >> n;\n",
        "    for (int i = 0; i < n; i++)\n",
        "    {\n",
        "        cin >> aux;\n",
        "        mapita[aux]++;\n",
        "    }\n",
        "    int cont = 0;\n",
        "    bool ans = false;\n",
        "    for (auto a : mapita)\n",
        "    {\n",
        "        if (a.second <= 2)\n",
        "        {\n",
        "            cont += a.second;\n",
        "        }\n",
        "        else cont += 2;\n",
        "        if (cont == 6)\n",
        "        {\n",
        "            ans = true;\n",
        "            break;\n",
        "        }\n",
        "    }\n",
        "    cout << (ans? \"SI\" : \"NO\");\n",
        "    return 0;\n",
        "}"
      ],
      "metadata": {
        "cellView": "form",
        "id": "z5Mkqv-a9ScI"
      },
      "execution_count": null,
      "outputs": []
    },
    {
      "cell_type": "code",
      "source": [
        "#@title Chupetin Star"
      ],
      "metadata": {
        "cellView": "form",
        "id": "5K0vzF4o9rTk"
      },
      "execution_count": null,
      "outputs": []
    },
    {
      "cell_type": "code",
      "source": [
        "#@title Cuentas bancarias\n",
        "%%writefile D.cpp\n",
        "#include <iostream>\n",
        "#define ll long long\n",
        "#define numod 1000000007\n",
        "using namespace std;\n",
        "ll fast_pow(int a, ll b)\n",
        "{\n",
        "    if (b == 0) return 1 % numod;\n",
        "    ll ans1 = fast_pow(a, b / 2);\n",
        "    ll aux = ans1 * ans1 % numod;\n",
        "    if (b % 2 == 0) return aux;\n",
        "    return (aux * (a % numod)) % numod;\n",
        "} \n",
        "int main()\n",
        "{\n",
        "    ll n;\n",
        "    int k;\n",
        "    cin >> n >> k;\n",
        "    k++;\n",
        "    cout << fast_pow(k, n);\n",
        "    return 0;\n",
        "}"
      ],
      "metadata": {
        "cellView": "form",
        "id": "7RRgmM8J9c5p"
      },
      "execution_count": null,
      "outputs": []
    },
    {
      "cell_type": "code",
      "source": [
        "#@title Kun y las letras"
      ],
      "metadata": {
        "cellView": "form",
        "id": "jgF-CKmU9vT2"
      },
      "execution_count": null,
      "outputs": []
    },
    {
      "cell_type": "code",
      "source": [
        "#@title Alineando cadenas"
      ],
      "metadata": {
        "cellView": "form",
        "id": "2VqEO-sN9zEB"
      },
      "execution_count": null,
      "outputs": []
    },
    {
      "cell_type": "code",
      "source": [
        "%%writefile a.txt\n",
        "4\n",
        "12 10 15 12"
      ],
      "metadata": {
        "id": "bwZm6Rb--F-w"
      },
      "execution_count": null,
      "outputs": []
    },
    {
      "cell_type": "code",
      "source": [
        "%%writefile b1.txt\n",
        "7\n",
        "2 10 4 6 9 20 1"
      ],
      "metadata": {
        "id": "6v5cjA2i-RXi"
      },
      "execution_count": null,
      "outputs": []
    },
    {
      "cell_type": "code",
      "source": [
        "%%writefile b2.txt\n",
        "7\n",
        "10 20 20 10 30 20 10 "
      ],
      "metadata": {
        "id": "WjU8qUJs-aTp"
      },
      "execution_count": null,
      "outputs": []
    }
  ]
}