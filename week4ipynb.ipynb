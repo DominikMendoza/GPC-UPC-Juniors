{
  "nbformat": 4,
  "nbformat_minor": 0,
  "metadata": {
    "colab": {
      "name": "week4ipynb",
      "provenance": [],
      "collapsed_sections": [],
      "authorship_tag": "ABX9TyN4oIy+qOILpSr5luweQboe",
      "include_colab_link": true
    },
    "kernelspec": {
      "name": "python3",
      "display_name": "Python 3"
    },
    "language_info": {
      "name": "python"
    }
  },
  "cells": [
    {
      "cell_type": "markdown",
      "metadata": {
        "id": "view-in-github",
        "colab_type": "text"
      },
      "source": [
        "<a href=\"https://colab.research.google.com/github/DominikMendoza/GPC-UPC-Juniors/blob/main/week4ipynb.ipynb\" target=\"_parent\"><img src=\"https://colab.research.google.com/assets/colab-badge.svg\" alt=\"Open In Colab\"/></a>"
      ]
    },
    {
      "cell_type": "markdown",
      "source": [
        "#Week 4\n",
        "- Caminos más cortos.\n",
        "- Caminos más largos."
      ],
      "metadata": {
        "id": "qD9P-2rP_M7q"
      }
    },
    {
      "cell_type": "code",
      "source": [
        "#@title Base DP\n",
        "%%writefile shortest_way.cpp\n",
        "#include <bits/stdc++.h>\n",
        "#define MAXS 20\n",
        "#define MAXN 5\n",
        "#define oo 100000000\n",
        "using namespace std;\n",
        "\n",
        "int D[] = {1, 3, 4};\n",
        "int memo[MAXN + 1][MAXS + 1];\n",
        "int n = 3;\n",
        "\n",
        "//f(s) : mínima cont de monedas para formar s, teniendo disponibles las n primer denominaciones\n",
        "//oo : no hay solución\n",
        "\n",
        "int f(int n, int s)\n",
        "{\n",
        "    //caso base\n",
        "    if (n == 0)\n",
        "    {\n",
        "        if (s == 0) return 0;\n",
        "        return oo;\n",
        "    }\n",
        "    int &ret = memo[n][s];\n",
        "    if (ret != -1) return ret;\n",
        "    \n",
        "    //no uso la n-ésima denominación\n",
        "    ret = 0 + f(n - 1, s);\n",
        "\n",
        "    //uso la n-ésima denominación\n",
        "    if (s >= D[n - 1]) ret = min(ret, 1 + f(n, s - D[n - 1]));\n",
        "    return ret;\n",
        "}\n",
        "int main()\n",
        "{\n",
        "    int n = 3, s;\n",
        "    cin >> s;\n",
        "    memset(memo, -1, sizeof(memo));\n",
        "    if (f(n, s) >= oo) cout << \"No hoy solución\";\n",
        "    else cout << f(n, s);\n",
        "    return 0;\n",
        "}"
      ],
      "metadata": {
        "colab": {
          "base_uri": "https://localhost:8080/"
        },
        "id": "btXGdTlf_S7g",
        "outputId": "eeaf1813-6b3e-4360-dbc6-75dad1355116",
        "cellView": "form"
      },
      "execution_count": null,
      "outputs": [
        {
          "output_type": "stream",
          "name": "stdout",
          "text": [
            "Overwriting shortest_way.cpp\n"
          ]
        }
      ]
    },
    {
      "cell_type": "code",
      "source": [
        "#@title Contest A\n",
        "%%writefile contestA.cpp\n",
        "#include <bits/stdc++.h>\n",
        "#define MAXN 20\n",
        "#define MAXS 50000\n",
        "#define oo 1000000\n",
        "using namespace std;\n",
        "int memo[MAXN + 1][MAXS + 1];\n",
        "int D[MAXN];\n",
        "\n",
        "int f(int n, int s)\n",
        "{\n",
        "    if (n == 0)\n",
        "    {\n",
        "        if (s == 0) return 0;\n",
        "        return oo;\n",
        "    }\n",
        "    int &ret = memo[n][s];\n",
        "    if (ret != -1) return ret;\n",
        "    ret = f(n - 1, s);\n",
        "    if (s >= D[n - 1]) ret = min(ret, 1 + f(n, s - D[n - 1]));\n",
        "    return ret;\n",
        "\n",
        "    \n",
        "}\n",
        "\n",
        "int main()\n",
        "{\n",
        "    int n, m;\n",
        "    cin >> n >> m;\n",
        "    for (int i = 0; i < m; i++) cin >> D[i];\n",
        "    memset(memo, -1, sizeof(memo));\n",
        "    cout << f(m, n);\n",
        "}"
      ],
      "metadata": {
        "colab": {
          "base_uri": "https://localhost:8080/"
        },
        "cellView": "form",
        "id": "_91Z0oHxXvcZ",
        "outputId": "5cabe482-ff5c-42ff-9d71-ee71ab3e5252"
      },
      "execution_count": null,
      "outputs": [
        {
          "output_type": "stream",
          "name": "stdout",
          "text": [
            "Overwriting contestA.cpp\n"
          ]
        }
      ]
    },
    {
      "cell_type": "code",
      "source": [
        "#@title Coin change ways\n",
        "%%writefile coin_change_ways.cpp\n",
        "#include <bits/stdc++.h>\n",
        "#define MAXN 3\n",
        "#define MAXS 20\n",
        "using namespace std;\n",
        "\n",
        "int D[] = {1, 3, 4};\n",
        "\n",
        "int memo[MAXN + 1][MAXS + 1];\n",
        "\n",
        "//número de maneras de formar la cantidad s con los n primer elementos\n",
        "\n",
        "int f(int n, int s)\n",
        "{\n",
        "    if (n == 0)\n",
        "    {\n",
        "        if (s == 0) return 1;\n",
        "        return 0;\n",
        "    }\n",
        "    int &ret = memo[n][s];\n",
        "    if (ret != -1) return ret;\n",
        "    //no usar el n-ésimo elemento\n",
        "    ret = f(n - 1, s);\n",
        "    //usar el n-ésimo elemento\n",
        "    if (s >= D[n - 1]) ret += f(n, s - D[n - 1]);\n",
        "    return ret;\n",
        "}\n",
        "int main()\n",
        "{\n",
        "    int s, n = 3;\n",
        "    cin >> s;\n",
        "    memset(memo, -1, sizeof(memo));\n",
        "    cout << f(n, s);\n",
        "    return 0;\n",
        "}"
      ],
      "metadata": {
        "colab": {
          "base_uri": "https://localhost:8080/"
        },
        "cellView": "form",
        "id": "mR4k_ZWTlsbs",
        "outputId": "3874bfac-7494-4939-85c2-636807bcd602"
      },
      "execution_count": null,
      "outputs": [
        {
          "output_type": "stream",
          "name": "stdout",
          "text": [
            "Overwriting coin_change_ways.cpp\n"
          ]
        }
      ]
    },
    {
      "cell_type": "code",
      "source": [
        "#@title Coin Chonge ways v2 (for)\n",
        "%%writefile coin_change_waysv2.cpp\n",
        "#include <bits/stdc++.h>\n",
        "#define MAXS 20\n",
        "#define MAXN 3\n",
        "using namespace std;\n",
        "int D[] = {1, 3, 4};\n",
        "int n = 3;\n",
        "int memo[MAXS + 1][MAXN + 1];\n",
        "\n",
        "int f(int s, int last_pos)\n",
        "{\n",
        "    if (s == 0) return 1;\n",
        "    int &ret = memo[s][last_pos];\n",
        "    if (ret != -1) return ret;\n",
        "    ret = 0;\n",
        "    for (int i = last_pos; i < n; i++)\n",
        "    {\n",
        "        if(s >= D[i]) ret += f(s - D[i], i);\n",
        "    }\n",
        "    return ret;\n",
        "}\n",
        "\n",
        "int main()\n",
        "{\n",
        "    int s;\n",
        "    cin >> s;\n",
        "    memset(memo, -1, sizeof(memo));\n",
        "    cout << f(s, 0);\n",
        "}"
      ],
      "metadata": {
        "colab": {
          "base_uri": "https://localhost:8080/"
        },
        "cellView": "form",
        "id": "npdwwJ7yrR6z",
        "outputId": "82852639-979e-4e15-b94f-0f625a44c356"
      },
      "execution_count": null,
      "outputs": [
        {
          "output_type": "stream",
          "name": "stdout",
          "text": [
            "Overwriting coin_change_waysv2.cpp\n"
          ]
        }
      ]
    }
  ]
}