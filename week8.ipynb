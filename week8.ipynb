{
  "nbformat": 4,
  "nbformat_minor": 0,
  "metadata": {
    "colab": {
      "name": "week8.ipynb",
      "provenance": [],
      "collapsed_sections": [],
      "authorship_tag": "ABX9TyNOaU4W1RK6tQN7XQlczp/u",
      "include_colab_link": true
    },
    "kernelspec": {
      "name": "python3",
      "display_name": "Python 3"
    },
    "language_info": {
      "name": "python"
    }
  },
  "cells": [
    {
      "cell_type": "markdown",
      "metadata": {
        "id": "view-in-github",
        "colab_type": "text"
      },
      "source": [
        "<a href=\"https://colab.research.google.com/github/DominikMendoza/GPC-UPC-Juniors/blob/main/week8.ipynb\" target=\"_parent\"><img src=\"https://colab.research.google.com/assets/colab-badge.svg\" alt=\"Open In Colab\"/></a>"
      ]
    },
    {
      "cell_type": "code",
      "execution_count": null,
      "metadata": {
        "colab": {
          "base_uri": "https://localhost:8080/"
        },
        "cellView": "form",
        "id": "d5-JRa_ZVANK",
        "outputId": "f90c1f3f-a93c-4a9d-f6d8-276ec8417c97"
      },
      "outputs": [
        {
          "output_type": "stream",
          "name": "stdout",
          "text": [
            "Overwriting maximo.cpp\n"
          ]
        }
      ],
      "source": [
        "#@title Obtener Max (div & ven)\n",
        "%%writefile maximo.cpp\n",
        "#include <bits/stdc++.h>\n",
        "using namespace std;\n",
        "\n",
        "int A[] = {7, 5, 2, 4, 1, 6, 3, 0};\n",
        "int n = 8;\n",
        "\n",
        "// maximo elemento del subarreglo A[lo, hi]\n",
        "\n",
        "int max_elem(int lo, int hi) {\n",
        "    if (lo == hi) return A[lo];\n",
        "    int mi = (lo + hi) / 2;\n",
        "    // dividir en subproblemas: [lo, mi] y [mi + 1, hi]\n",
        "    int max1 = max(lo, hi); // vencer primer subproblema\n",
        "    int max2 = max(mi + 1, hi); // vencer segundo problema\n",
        "    return max(max1, max2); // combinar soluciones de subproblemas\n",
        "}\n",
        "\n",
        "int main()\n",
        "{\n",
        "    cout << max_elem(0, n - 1) << \"\\n\";\n",
        "    return 0;\n",
        "} "
      ]
    },
    {
      "cell_type": "code",
      "source": [
        "#@title Merge Sort\n",
        "%%writefile merge_sort.cpp\n",
        "#include <bits/stdc++.h>\n",
        "using namespace std;\n",
        "\n",
        "int A[] = {7, 5, 2, 4, 9, 6, 3, 0};\n",
        "int n = 8;\n",
        "\n",
        "void combinar(int lo, int mi, int hi) {\n",
        "    vector<int> s1, s2; // ya estan ordenados\n",
        "    for (int i = lo; i <= mi; i++) s1.push_back(A[i]);\n",
        "    for (int i = mi + 1; i <= hi; i++) s2.push_back(A[i]);\n",
        "    int p = 0;\n",
        "    int q = 0;\n",
        "    for (int i = lo; i <= hi; i++) //reemplazammos elementos\n",
        "    { \n",
        "        if (p != s1.size() && q != s2.size()) {\n",
        "            if (s1[p] < s2[q]) A[i] = s1[p], p++;\n",
        "            else A[i] = s2[q], q++;\n",
        "        } else {\n",
        "            if (p == s1.size()) A[i] = s2[q++];\n",
        "            else A[i] = s1[p++]; // s1[p++] = s1[p], p++;\n",
        "        }\n",
        "    }\n",
        "}\n",
        "\n",
        "//ordena los elementos A[lo, ... hi]\n",
        "void merge_sort(int lo, int hi) {\n",
        "    if (lo == hi) return;\n",
        "    int mi = (lo + hi) / 2; // punto medio\n",
        "    //dividimos en subproblemas[lo, mi] y [mi + 1, hi]\n",
        "    merge_sort(lo, mi); //vencemos primer subproblema\n",
        "    merge_sort(mi + 1, hi); // vencemos segundo subproblema\n",
        "    combinar(lo, mi, hi);\n",
        "}\n",
        "\n",
        "int main()\n",
        "{\n",
        "    merge_sort(0, n - 1);\n",
        "    for (int e : A) cout << \" \" <<  e;\n",
        "    return 0;\n",
        "} "
      ],
      "metadata": {
        "colab": {
          "base_uri": "https://localhost:8080/"
        },
        "cellView": "form",
        "id": "Sb5fWnZZcdG0",
        "outputId": "9acb0f7d-e3be-4773-f28f-270e15e92e7d"
      },
      "execution_count": null,
      "outputs": [
        {
          "output_type": "stream",
          "name": "stdout",
          "text": [
            "Overwriting merge_sort.cpp\n"
          ]
        }
      ]
    },
    {
      "cell_type": "code",
      "source": [
        "#@title Maximo Subarray\n",
        "%%writefile max_subarray.cpp\n",
        "#include <bits/stdc++.h>\n",
        "using namespace std;\n",
        "\n",
        "int A[] = {-2, -3, 4, -1, -2, 1, 5, -3};\n",
        "int n = 8;\n",
        "\n",
        "int maxsum_combinado(int lo, int mi, int hi)\n",
        "{\n",
        "    //mejor porcion del primer subproblema\n",
        "    int maxsum_s1 = A[mi];\n",
        "    int acum = 0;\n",
        "    for (int i = mi; i >= lo; i--)\n",
        "    {\n",
        "        acum += A[i];\n",
        "        maxsum_s1 = max(maxsum_s1, acum);\n",
        "    }\n",
        "    //mejor porcion del segundo subproblema\n",
        "    int maxsum_s2 = A[mi + 1];\n",
        "    acum = 0;\n",
        "    for (int i = mi + 1; i <= hi; i++) {\n",
        "        acum += A[i];\n",
        "        maxsum_s2 = max(maxsum_s2, acum);\n",
        "    }\n",
        "    return maxsum_s1 + maxsum_s2;\n",
        "    \n",
        "}\n",
        "\n",
        "int maxsum_subarray(int lo, int hi) {\n",
        "    if (lo == hi) return 0;\n",
        "    int mi = (lo + hi) / 2; //punto medio\n",
        "    //dividimos en 2 subprobblemas [lo, mi] y [mi + 1, hi]\n",
        "    int max1 = maxsum_subarray(lo, mi); //vencer 1er subpr\n",
        "    int max2 = maxsum_subarray(mi + 1, hi); //vencer 2do subpr\n",
        "    int max3 = maxsum_combinado(lo, mi, hi); // combinamos\n",
        "    return max(max1, max(max2, max3));\n",
        "}\n",
        "\n",
        "int main()\n",
        "{\n",
        "    cout << maxsum_subarray(0, n - 1);\n",
        "    return 0;\n",
        "}"
      ],
      "metadata": {
        "colab": {
          "base_uri": "https://localhost:8080/"
        },
        "cellView": "form",
        "id": "U9Bn5K9CuHqn",
        "outputId": "706a0954-66b7-41c0-ba20-97e1446414b7"
      },
      "execution_count": null,
      "outputs": [
        {
          "output_type": "stream",
          "name": "stdout",
          "text": [
            "Overwriting max_subarray.cpp\n"
          ]
        }
      ]
    },
    {
      "cell_type": "code",
      "source": [
        "#@title Maximo Subarray v2\n",
        "%%writefile max_subarrayv2.cpp\n",
        "#include <bits/stdc++.h>\n",
        "using namespace std;\n",
        "\n",
        "int A[] = {-2, -3, 4, -1, -2, 1, 5, -3};\n",
        "int n = 8;\n",
        "int dp[8]; // la suma dele mejor subarray que acabe en i\n",
        "\n",
        "int main()\n",
        "{\n",
        "    int acum = 0, worse = 0;\n",
        "    for (int i = 0; i < n; i++)\n",
        "    {\n",
        "        acum += A[i];\n",
        "        dp[i] = acum - worse;\n",
        "        worse = min(worse, acum);\n",
        "    }\n",
        "    int maxi = dp[0];\n",
        "    for (int i = 0; i < n; i++) maxi = max(maxi, dp[i]);\n",
        "    cout << maxi;\n",
        "}"
      ],
      "metadata": {
        "colab": {
          "base_uri": "https://localhost:8080/"
        },
        "cellView": "form",
        "id": "6Te1Hafx0TG3",
        "outputId": "df280eb9-8104-48d0-8581-675a29371bab"
      },
      "execution_count": null,
      "outputs": [
        {
          "output_type": "stream",
          "name": "stdout",
          "text": [
            "Overwriting max_subarrayv2.cpp\n"
          ]
        }
      ]
    },
    {
      "cell_type": "code",
      "source": [
        "#@title Pow recursivo\n",
        "%%writefile pow.cpp\n",
        "#include <bits/stdc++.h>\n",
        "using namespace std;\n",
        "\n",
        "int a = 3, b = 4;\n",
        "\n",
        "//elevar a^b = producto de \"a\" desde [lo, hi]\n",
        "// donde cada elemento es a\n",
        "\n",
        "int poww(int lo, int hi)\n",
        "{\n",
        "    if (lo == hi) return a;\n",
        "    int mi = (lo + hi) / 2; // punto medio\n",
        "    int ans1 = poww(lo, mi);\n",
        "    int ans2 = poww(mi +  1, hi);\n",
        "    return ans1 * ans2;\n",
        "}\n",
        "\n",
        "int main()\n",
        "{\n",
        "    cout << poww(1, b);\n",
        "    return 0;\n",
        "}"
      ],
      "metadata": {
        "colab": {
          "base_uri": "https://localhost:8080/"
        },
        "cellView": "form",
        "id": "1sOGuuvb8JYS",
        "outputId": "93afe398-78a5-460f-a3b3-27844a72ca20"
      },
      "execution_count": null,
      "outputs": [
        {
          "output_type": "stream",
          "name": "stdout",
          "text": [
            "Overwriting pow.cpp\n"
          ]
        }
      ]
    },
    {
      "cell_type": "code",
      "source": [
        "#@title Pow v2\n",
        "%%writefile poww2.cpp\n",
        "#include <bits/stdc++.h>\n",
        "using namespace std;\n",
        "\n",
        "//elevar a^b = a^(b/2) * a^b(b - b/2)\n",
        "\n",
        "int poww(int a, int b)\n",
        "{\n",
        "    if (b == 1) return a;\n",
        "    int ans1 = poww(a, b / 2);\n",
        "    int ans2 = poww(a, b - b / 2);\n",
        "    return ans1 * ans2;\n",
        "}\n",
        "\n",
        "int main()\n",
        "{\n",
        "    int a = 3, b = 4;\n",
        "    cout << poww(a, b);\n",
        "}"
      ],
      "metadata": {
        "colab": {
          "base_uri": "https://localhost:8080/"
        },
        "cellView": "form",
        "id": "DJVCNsnC-cLk",
        "outputId": "6331e08f-0c69-44c3-d69d-751004b9ac21"
      },
      "execution_count": null,
      "outputs": [
        {
          "output_type": "stream",
          "name": "stdout",
          "text": [
            "Overwriting poww2.cpp\n"
          ]
        }
      ]
    },
    {
      "cell_type": "code",
      "source": [
        "#@title Fast Pow\n",
        "%%writefile fast_pow.cpp\n",
        "#include <bits/stdc++.h>\n",
        "using namespace std;\n",
        "\n",
        "int fast_pow(int a, int b)\n",
        "{\n",
        "    if (b == 0) return 1;\n",
        "    int ans1 = fast_pow(a, b / 2);\n",
        "    if (b % 2 == 0) return ans1 * ans1;\n",
        "    return ans1 * ans1 * a;\n",
        "}\n",
        "\n",
        "int main()\n",
        "{\n",
        "    int a = 3, b = 3;\n",
        "    cout << fast_pow(a, b);\n",
        "}"
      ],
      "metadata": {
        "colab": {
          "base_uri": "https://localhost:8080/"
        },
        "cellView": "form",
        "id": "j_oVYJvGAkTc",
        "outputId": "6cf2a47e-146e-4079-90c2-64d7ae575ee2"
      },
      "execution_count": null,
      "outputs": [
        {
          "output_type": "stream",
          "name": "stdout",
          "text": [
            "Overwriting fast_pow.cpp\n"
          ]
        }
      ]
    },
    {
      "cell_type": "code",
      "source": [
        "#@title Potenciación modular\n",
        "%%writefile fast_pow_mod.cpp\n",
        "#include <bits/stdc++.h>\n",
        "using namespace std;\n",
        "\n",
        "//eleva (a ^ b) % c en O(log(b))\n",
        "int fast_pow(int a, int b, int c)\n",
        "{\n",
        "    if (b == 0) return 1 % c;\n",
        "    int ans1 = fast_pow(a, b / 2, c);\n",
        "    int aux = ans1 * ans1 % c;\n",
        "    if (b % 2 == 0) return aux;\n",
        "    return (aux * (a % c)) % c;\n",
        "}\n",
        "\n",
        "int otro_met(int a, int b, int c)\n",
        "{\n",
        "    if (b == 0) return 1 % c;\n",
        "    int ans1 = fast_pow(a, b / 2, c);\n",
        "    int ret = (ans * ans) % c;\n",
        "    if (b % 2 == 1) ret = (ret * (a % c)) % c;\n",
        "    return ret;\n",
        "\n",
        "int main()\n",
        "{\n",
        "    int a = 2, b = 3, c = 3;\n",
        "    cout << fast_pow(a, b, c);\n",
        "}"
      ],
      "metadata": {
        "colab": {
          "base_uri": "https://localhost:8080/"
        },
        "id": "hR_t2t6PC9ga",
        "outputId": "2bc40b06-5de0-478a-a19d-90feb768f240",
        "cellView": "form"
      },
      "execution_count": null,
      "outputs": [
        {
          "output_type": "stream",
          "name": "stdout",
          "text": [
            "Overwriting fast_pow_mod.cpp\n"
          ]
        }
      ]
    },
    {
      "cell_type": "code",
      "source": [
        "#@title Contest A - The jackpot\n",
        "%%writefile A.cpp\n",
        "#include <bits/stdc++.h>\n",
        "using namespace std;\n",
        "\n",
        "int main()\n",
        "{\n",
        "    int n;\n",
        "    while (cin >> n)\n",
        "    {\n",
        "        if (n == 0) break;\n",
        "        int A[n];\n",
        "        int dp[n];\n",
        "        for (int i = 0; i < n; i++)\n",
        "        {\n",
        "            cin >> A[i];\n",
        "        }\n",
        "        int acum = 0, worse = 0;\n",
        "        for (int i = 0; i < n; i++)\n",
        "        {\n",
        "            acum += A[i];\n",
        "            dp[i] = acum - worse;\n",
        "            worse = min(worse, acum);\n",
        "        }\n",
        "        int maxi = dp[0];\n",
        "        for (int i = 0; i < n; i++) maxi = max(maxi, dp[i]);\n",
        "        if (maxi > 0)\n",
        "        {\n",
        "            cout << \"The maximum winning streak is \" << maxi << \".\\n\";\n",
        "        }\n",
        "        else\n",
        "        {\n",
        "            cout << \"Losing streak.\\n\";\n",
        "        }\n",
        "    }\n",
        "}"
      ],
      "metadata": {
        "colab": {
          "base_uri": "https://localhost:8080/"
        },
        "cellView": "form",
        "id": "cYRDkW934h_m",
        "outputId": "00a7ab3b-bc37-46f9-c28c-3a000151e793"
      },
      "execution_count": null,
      "outputs": [
        {
          "output_type": "stream",
          "name": "stdout",
          "text": [
            "Overwriting A.cpp\n"
          ]
        }
      ]
    },
    {
      "cell_type": "code",
      "source": [
        "#@title Contest B - Mergesort\n",
        "%%writefile B.cpp\n",
        "#include <bits/stdc++.h>\n",
        "using namespace std;\n",
        "\n",
        "vector<int>A;\n",
        "\n",
        "void combinar(int lo, int mi, int hi) {\n",
        "    vector<int> s1, s2; // ya estan ordenados\n",
        "    for (int i = lo; i <= mi; i++) s1.push_back(A[i]);\n",
        "    for (int i = mi + 1; i <= hi; i++) s2.push_back(A[i]);\n",
        "    int p = 0;\n",
        "    int q = 0;\n",
        "    for (int i = lo; i <= hi; i++) //reemplazammos elementos\n",
        "    { \n",
        "        if (p != s1.size() && q != s2.size()) {\n",
        "            if (s1[p] < s2[q]) A[i] = s1[p], p++;\n",
        "            else A[i] = s2[q], q++;\n",
        "        } else {\n",
        "            if (p == s1.size()) A[i] = s2[q++];\n",
        "            else A[i] = s1[p++]; // s1[p++] = s1[p], p++;\n",
        "        }\n",
        "    }\n",
        "}\n",
        "\n",
        "//ordena los elementos A[lo, ... hi]\n",
        "void merge_sort(int lo, int hi) {\n",
        "    if (lo == hi) return;\n",
        "    int mi = (lo + hi) / 2; // punto medio\n",
        "    //dividimos en subproblemas[lo, mi] y [mi + 1, hi]\n",
        "    merge_sort(lo, mi); //vencemos primer subproblema\n",
        "    merge_sort(mi + 1, hi); // vencemos segundo subproblema\n",
        "    combinar(lo, mi, hi);\n",
        "}\n",
        "\n",
        "int main()\n",
        "{\n",
        "    int N;\n",
        "    while (cin >> N)\n",
        "    {\n",
        "        A.push_back(N); \n",
        "    }\n",
        "    merge_sort(0, A.size() - 1);\n",
        "    for (int e : A) cout <<  e << \" \";\n",
        "    return 0;\n",
        "} "
      ],
      "metadata": {
        "colab": {
          "base_uri": "https://localhost:8080/"
        },
        "cellView": "form",
        "id": "Bzi_SQ4dh48V",
        "outputId": "88900d64-65ac-48d4-8660-173aa8eea755"
      },
      "execution_count": null,
      "outputs": [
        {
          "output_type": "stream",
          "name": "stdout",
          "text": [
            "Overwriting B.cpp\n"
          ]
        }
      ]
    },
    {
      "cell_type": "code",
      "source": [
        "#@title Contest C - Big Mod\n",
        "%%writefile C.cpp\n",
        "#include <bits/stdc++.h>\n",
        "using namespace std;\n",
        "\n",
        "int fast_pow_mod(int a, int b, int c)\n",
        "{\n",
        "    if (b == 0) return 1 % c;\n",
        "    int ans1 = fast_pow_mod(a, b / 2, c);\n",
        "    int aux = ans1 * ans1 % c;\n",
        "    if (b % 2 == 0) return aux;\n",
        "    return (aux * (a % c)) % c;\n",
        "}\n",
        "\n",
        "int main()\n",
        "{\n",
        "    int B, P, M;\n",
        "    while (cin >> B >> P >> M)\n",
        "    {\n",
        "        cout << fast_pow_mod(B, P, M) << '\\n';\n",
        "    }\n",
        "    return 0;\n",
        "}"
      ],
      "metadata": {
        "colab": {
          "base_uri": "https://localhost:8080/"
        },
        "cellView": "form",
        "id": "Pmy8Beyfl4p0",
        "outputId": "ad3d3bbd-9c8f-40ce-845b-c1bfcf143954"
      },
      "execution_count": null,
      "outputs": [
        {
          "output_type": "stream",
          "name": "stdout",
          "text": [
            "Overwriting C.cpp\n"
          ]
        }
      ]
    },
    {
      "cell_type": "code",
      "source": [
        "!g++ C.cpp && ./a.out < input.txt"
      ],
      "metadata": {
        "colab": {
          "base_uri": "https://localhost:8080/"
        },
        "id": "zpNwMd_S6f_I",
        "outputId": "4eb1c51e-a1ea-41d9-cffa-ee97d5c89206"
      },
      "execution_count": null,
      "outputs": [
        {
          "output_type": "stream",
          "name": "stdout",
          "text": [
            "13\n",
            "2\n",
            "13195\n"
          ]
        }
      ]
    },
    {
      "cell_type": "code",
      "source": [
        "#@title Prueba\n",
        "%%writefile prueba.cpp\n",
        "#include <bits/stdc++.h>\n",
        "using namespace std;\n",
        "int main()\n",
        "{\n",
        "    cout << INT_MAX << '\\n';\n",
        "    cout << INT_MIN;\n",
        "    return 0;\n",
        "}"
      ],
      "metadata": {
        "colab": {
          "base_uri": "https://localhost:8080/"
        },
        "cellView": "form",
        "id": "WGGAuxeiicmq",
        "outputId": "760977f6-24cf-4275-f328-dd39b84361ee"
      },
      "execution_count": null,
      "outputs": [
        {
          "output_type": "stream",
          "name": "stdout",
          "text": [
            "Overwriting prueba.cpp\n"
          ]
        }
      ]
    },
    {
      "cell_type": "code",
      "source": [
        "%%writefile input.txt\n",
        "3\n",
        "18132\n",
        "17\n",
        "17\n",
        "1765\n",
        "3\n",
        "2374859\n",
        "3029382\n",
        "36123"
      ],
      "metadata": {
        "colab": {
          "base_uri": "https://localhost:8080/"
        },
        "id": "qg88ilbN6aCb",
        "outputId": "3453c07f-8c14-4705-a8a1-196fd3deb8e5"
      },
      "execution_count": null,
      "outputs": [
        {
          "output_type": "stream",
          "name": "stdout",
          "text": [
            "Overwriting input.txt\n"
          ]
        }
      ]
    }
  ]
}